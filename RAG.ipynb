{
 "cells": [
  {
   "cell_type": "code",
   "execution_count": 1,
   "metadata": {},
   "outputs": [
    {
     "name": "stderr",
     "output_type": "stream",
     "text": [
      "/Users/rayaneghilene/Documents/Ollama/lib/python3.9/site-packages/urllib3/__init__.py:35: NotOpenSSLWarning: urllib3 v2 only supports OpenSSL 1.1.1+, currently the 'ssl' module is compiled with 'LibreSSL 2.8.3'. See: https://github.com/urllib3/urllib3/issues/3020\n",
      "  warnings.warn(\n",
      "/Users/rayaneghilene/Documents/Ollama/lib/python3.9/site-packages/tqdm/auto.py:21: TqdmWarning: IProgress not found. Please update jupyter and ipywidgets. See https://ipywidgets.readthedocs.io/en/stable/user_install.html\n",
      "  from .autonotebook import tqdm as notebook_tqdm\n"
     ]
    }
   ],
   "source": [
    "from langchain.document_loaders import PyPDFLoader\n",
    "from langchain.indexes import VectorstoreIndexCreator\n",
    "from langchain.chains import RetrievalQA\n",
    "from langchain.text_splitter import RecursiveCharacterTextSplitter\n",
    "from langchain.embeddings import HuggingFaceEmbeddings\n",
    "from langchain_community.chat_models import ChatOllama\n",
    "\n",
    "import streamlit as st\n",
    "import ollama\n",
    "from typing import Dict, Generator\n",
    "from glob import glob\n",
    "\n",
    "\n",
    "\n",
    "### LLM 🤓\n",
    "\n",
    "def ollama_generator(messages: Dict) -> Generator:\n",
    "    stream = ollama.chat(\n",
    "            model=\"llava:7b\",\n",
    "            messages=messages,\n",
    "            stream=True\n",
    "        )\n",
    "    for chunk in stream:\n",
    "        yield chunk['message']['content']\n",
    "\n",
    "\n",
    "\n",
    "### Data Integration\n",
    "folder_path= '/Users/rayaneghilene/Documents/Ollama/RAG/Famso-Data'\n",
    "\n",
    "# @st.cache_resource\n",
    "def load_pdf():\n",
    "    # pdf_name ='Issues with Entailment-based Zero-shot Text Classification.pdf'\n",
    "    #loaders = [PyPDFLoader(pdf_name)]\n",
    "    pdf_files = glob(f\"{folder_path}/*.pdf\")\n",
    "    loaders = [PyPDFLoader(file_path) for file_path in pdf_files]\n",
    "\n",
    "    index= VectorstoreIndexCreator(\n",
    "        embedding = HuggingFaceEmbeddings(model_name= 'all-MiniLM-L12-V2'),\n",
    "        text_splitter=RecursiveCharacterTextSplitter(chunk_size=100, chunk_overlap=0)\n",
    "    ).from_loaders(loaders)\n",
    "    return index\n",
    "\n",
    "index = load_pdf()\n",
    "\n",
    "\n",
    "### Chain\n",
    "\n",
    "chain= RetrievalQA.from_chain_type(\n",
    "    llm= ChatOllama(model=\"llava:7b\"),\n",
    "    chain_type ='stuff',\n",
    "    retriever= index.vectorstore.as_retriever(),\n",
    "    input_key='question'\n",
    ")"
   ]
  },
  {
   "cell_type": "code",
   "execution_count": 2,
   "metadata": {},
   "outputs": [
    {
     "name": "stderr",
     "output_type": "stream",
     "text": [
      "/Users/rayaneghilene/Documents/Ollama/lib/python3.9/site-packages/langchain_core/_api/deprecation.py:117: LangChainDeprecationWarning: The function `__call__` was deprecated in LangChain 0.1.0 and will be removed in 0.2.0. Use invoke instead.\n",
      "  warn_deprecated(\n"
     ]
    },
    {
     "name": "stdout",
     "output_type": "stream",
     "text": [
      "{'question': 'What is zero-shot text classification?', 'result': \" La classificación de Lancefield appartient à la famille des streptococci (Streptococcaceae) et est un groupe d'espèces gram négatives, diplocoques en forme de coccoïdes. En revanche, le genre Coccus comprend des bactéries gram positives, principalement en forme de coccus.\\n\\nZero-shot text classification est une technique de machine learning qui permet de classer un texte sur une catégorie à partir d'un vocabulaire limité, c'est-à-dire qu'il n'y a pas besoin de l'entraînement sur des exemples spécifiques de la catégorie. Cette technique peut être utilisée pour classer un texte sur une classe que le modèle n'a jamais rencontré auparavant, mais qui est similaire à celles qu'il connaît déjà. \"}\n"
     ]
    }
   ],
   "source": [
    "question = \"What is zero-shot text classification?\"\n",
    "response = chain({\"question\": question})\n",
    "print(response)"
   ]
  }
 ],
 "metadata": {
  "kernelspec": {
   "display_name": "Ollama",
   "language": "python",
   "name": "python3"
  },
  "language_info": {
   "codemirror_mode": {
    "name": "ipython",
    "version": 3
   },
   "file_extension": ".py",
   "mimetype": "text/x-python",
   "name": "python",
   "nbconvert_exporter": "python",
   "pygments_lexer": "ipython3",
   "version": "3.9.6"
  }
 },
 "nbformat": 4,
 "nbformat_minor": 2
}
