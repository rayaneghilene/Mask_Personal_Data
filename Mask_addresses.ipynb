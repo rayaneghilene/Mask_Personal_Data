{
  "cells": [
    {
      "cell_type": "markdown",
      "metadata": {},
      "source": [
        "# Address Extraction and Masking using NER (Named Entity Recognition) BERT Variants"
      ]
    },
    {
      "cell_type": "code",
      "execution_count": 1,
      "metadata": {
        "colab": {
          "base_uri": "https://localhost:8080/"
        },
        "id": "YwYgOECK7d09",
        "outputId": "52e699a5-ad19-4e4b-990a-e08e68b940f4"
      },
      "outputs": [
        {
          "name": "stderr",
          "output_type": "stream",
          "text": [
            "/Users/rayaneghilene/Documents/Ollama/lib/python3.9/site-packages/urllib3/__init__.py:35: NotOpenSSLWarning: urllib3 v2 only supports OpenSSL 1.1.1+, currently the 'ssl' module is compiled with 'LibreSSL 2.8.3'. See: https://github.com/urllib3/urllib3/issues/3020\n",
            "  warnings.warn(\n",
            "/Users/rayaneghilene/Documents/Ollama/lib/python3.9/site-packages/tqdm/auto.py:21: TqdmWarning: IProgress not found. Please update jupyter and ipywidgets. See https://ipywidgets.readthedocs.io/en/stable/user_install.html\n",
            "  from .autonotebook import tqdm as notebook_tqdm\n",
            "Some weights of the model checkpoint at dslim/bert-base-NER were not used when initializing BertForTokenClassification: ['bert.pooler.dense.bias', 'bert.pooler.dense.weight']\n",
            "- This IS expected if you are initializing BertForTokenClassification from the checkpoint of a model trained on another task or with another architecture (e.g. initializing a BertForSequenceClassification model from a BertForPreTraining model).\n",
            "- This IS NOT expected if you are initializing BertForTokenClassification from the checkpoint of a model that you expect to be exactly identical (initializing a BertForSequenceClassification model from a BertForSequenceClassification model).\n"
          ]
        }
      ],
      "source": [
        "from transformers import AutoTokenizer, AutoModelForTokenClassification, pipeline\n",
        "\n",
        "\n",
        "model_name = \"dslim/bert-base-NER\"\n",
        "tokenizer = AutoTokenizer.from_pretrained(model_name)\n",
        "model = AutoModelForTokenClassification.from_pretrained(model_name)\n",
        "\n",
        "\n",
        "ner_pipeline = pipeline(\"ner\", model=model, tokenizer=tokenizer, device=0)"
      ]
    },
    {
      "cell_type": "markdown",
      "metadata": {
        "id": "EH2jeALE-_Y3"
      },
      "source": [
        "### We pass the following arguments for address extraction\n",
        "\n",
        "B-LOC\tBeginning of a location right after another location \\\n",
        "I-LOC\tLocation\n",
        "\n",
        "See https://huggingface.co/dslim/bert-base-NER for more details"
      ]
    },
    {
      "cell_type": "code",
      "execution_count": 2,
      "metadata": {
        "colab": {
          "base_uri": "https://localhost:8080/"
        },
        "id": "Bj6Z042g-rTZ",
        "outputId": "2cf321ec-1d8f-470c-8459-7756a452985a"
      },
      "outputs": [
        {
          "name": "stdout",
          "output_type": "stream",
          "text": [
            "Extracted Address: Main St Springfield IL Elm St Shelby ##ville IL Rue de la Tu ##nis ##ie Nan ##ter ##re France\n",
            "Address Tokens are  ['Main', 'St', 'Springfield', 'IL', 'Elm', 'St', 'Shelby', '##ville', 'IL', 'Rue', 'de', 'la', 'Tu', '##nis', '##ie', 'Nan', '##ter', '##re', 'France']\n"
          ]
        }
      ],
      "source": [
        "text = \"Send the package to 123 Main St, Springfield, IL 62704. \" \\\n",
        "       \"Or alternatively, you can send it to 456 Elm St, Shelbyville, IL 62565.\"\\\n",
        "       \"you cna also send it to 75 Rue de la Tunisie, Nanterre, France\"\n",
        "\n",
        "ner_results = ner_pipeline(text)\n",
        "\n",
        "address_tokens = [res['word'] for res in ner_results if res['entity'] == 'B-LOC' or res['entity'] == 'I-LOC']\n",
        "address = ' '.join(address_tokens)\n",
        "\n",
        "print(\"Extracted Address:\", address)\n",
        "\n",
        "ner_results = ner_pipeline(text)\n",
        "address_tokens = [res['word'] for res in ner_results if res['entity'] == 'B-LOC' or res['entity'] == 'I-LOC']\n",
        "print (\"Address Tokens are \", address_tokens)"
      ]
    },
    {
      "cell_type": "markdown",
      "metadata": {
        "id": "8FOy2mKVAkVF"
      },
      "source": [
        "### Token Masking"
      ]
    },
    {
      "cell_type": "code",
      "execution_count": 3,
      "metadata": {
        "colab": {
          "base_uri": "https://localhost:8080/"
        },
        "id": "Ys1GLk0_DMIv",
        "outputId": "9f960fd1-fe97-42dd-a886-d27f19460c5f"
      },
      "outputs": [
        {
          "name": "stdout",
          "output_type": "stream",
          "text": [
            "Send the package to 123 [MASK] [MASK], [MASK], [MASK] 62704. Or alternatively, you can send it to 456 [MASK] [MASK], Shelbyville, [MASK] 62565.you cna also send it to 75 [MASK] [MASK] [MASK] Tunisie, Nanterre, [MASK]\n"
          ]
        }
      ],
      "source": [
        "import re\n",
        "def mask_words(text, words_to_mask):\n",
        "  for word in words_to_mask:\n",
        "    text = re.sub(r'\\b{}\\b'.format(re.escape(word)), '[MASK]', text)\n",
        "  return text\n",
        "\n",
        "masked_text = mask_words(text, address_tokens)\n",
        "print(masked_text)"
      ]
    },
    {
      "cell_type": "markdown",
      "metadata": {
        "id": "AK7hto7j_ly1"
      },
      "source": [
        "# \\\\\\\\\\\\\\\\\\\\\\\\\\\\\\\\\\\\\\\\\\\\\\\\\\\\\\\\\\\\\\\\\\\\\\\\\\\\\\\\\\\\\\\\\\\\\\\\\\\\\\\\\\\\\\\\\\\\\\\\\\\\\\\\\\\\\\\\\\\\\\\\\\\\\\\\\\\\\\\\\\\\\\\\\\\\\\\\\\\\\\\\\\\\\\\\\\\\\\\\\\\\\\\\\\\\\\\\\\\\\\\\\\\\\\\\\\\\\\\\\\\\\\\\\\\\\\\\\\\\\\\\\\\\\\\\\\\\\\\\"
      ]
    },
    {
      "cell_type": "markdown",
      "metadata": {
        "id": "Sk4arEAo_wKO"
      },
      "source": [
        "## You can use a different NER model\n",
        "\n",
        "Here we use a Distilled version of BERT, fine tuned for NER \\\n",
        "Model card: https://huggingface.co/dslim/distilbert-NER"
      ]
    },
    {
      "cell_type": "code",
      "execution_count": 4,
      "metadata": {
        "colab": {
          "base_uri": "https://localhost:8080/"
        },
        "id": "RK4TmStN_2Th",
        "outputId": "a9ac21d5-4c5d-40ec-f44d-ff83355cb753"
      },
      "outputs": [
        {
          "name": "stdout",
          "output_type": "stream",
          "text": [
            "Address Tokens are  ['Main', 'St', 'Springfield', 'IL', 'Elm', 'St', 'Shelby', '##ville', 'IL', 'Rue', 'de', 'la', 'Tu', '##nis', '##ie', 'Nan', '##ter', '##re', 'France']\n",
            "Send the package to 123 [MASK] [MASK], [MASK], [MASK] 62704. Or alternatively, you can send it to 456 [MASK] [MASK], Shelbyville, [MASK] 62565.you cna also send it to 75 [MASK] [MASK] [MASK] Tunisie, Nanterre, [MASK]\n"
          ]
        }
      ],
      "source": [
        "from transformers import AutoTokenizer, AutoModelForTokenClassification, pipeline\n",
        "\n",
        "\n",
        "model_name = \"dslim/distilbert-NER\"\n",
        "tokenizer = AutoTokenizer.from_pretrained(model_name)\n",
        "model = AutoModelForTokenClassification.from_pretrained(model_name)\n",
        "\n",
        "\n",
        "ner_pipeline = pipeline(\"ner\", model=model, tokenizer=tokenizer, device=0)\n",
        "\n",
        "text = \"Send the package to 123 Main St, Springfield, IL 62704. \" \\\n",
        "       \"Or alternatively, you can send it to 456 Elm St, Shelbyville, IL 62565.\"\\\n",
        "       \"you cna also send it to 75 Rue de la Tunisie, Nanterre, France\"\n",
        "\n",
        "ner_results = ner_pipeline(text)\n",
        "address_tokens = [res['word'] for res in ner_results if res['entity'] == 'B-LOC' or res['entity'] == 'I-LOC']\n",
        "print (\"Address Tokens are \", address_tokens)\n",
        "masked_text = mask_words(text, address_tokens)\n",
        "print(masked_text)"
      ]
    }
  ],
  "metadata": {
    "accelerator": "GPU",
    "colab": {
      "gpuType": "T4",
      "provenance": []
    },
    "kernelspec": {
      "display_name": "Python 3",
      "name": "python3"
    },
    "language_info": {
      "codemirror_mode": {
        "name": "ipython",
        "version": 3
      },
      "file_extension": ".py",
      "mimetype": "text/x-python",
      "name": "python",
      "nbconvert_exporter": "python",
      "pygments_lexer": "ipython3",
      "version": "3.9.6"
    }
  },
  "nbformat": 4,
  "nbformat_minor": 0
}
