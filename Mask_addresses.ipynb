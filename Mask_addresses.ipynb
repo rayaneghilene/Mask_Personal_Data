{
  "cells": [
    {
      "cell_type": "markdown",
      "metadata": {
        "id": "D4GBc1FA8FLO"
      },
      "source": [
        "## Address Extraction & Masking using NER finetuned BERT Variants"
      ]
    },
    {
      "cell_type": "code",
      "execution_count": null,
      "metadata": {
        "colab": {
          "base_uri": "https://localhost:8080/"
        },
        "id": "YwYgOECK7d09",
        "outputId": "52e699a5-ad19-4e4b-990a-e08e68b940f4"
      },
      "outputs": [
        {
          "ename": "",
          "evalue": "",
          "output_type": "error",
          "traceback": [
            "\u001b[1;31mRunning cells with '/usr/bin/python3' requires the ipykernel package.\n",
            "\u001b[1;31mRun the following command to install 'ipykernel' into the Python environment. \n",
            "\u001b[1;31mCommand: '/usr/bin/python3 -m pip install ipykernel -U --user --force-reinstall'"
          ]
        }
      ],
      "source": [
        "from transformers import AutoTokenizer, AutoModelForTokenClassification, pipeline\n",
        "\n",
        "\n",
        "model_name = \"dslim/bert-base-NER\"\n",
        "tokenizer = AutoTokenizer.from_pretrained(model_name)\n",
        "model = AutoModelForTokenClassification.from_pretrained(model_name)\n",
        "\n",
        "\n",
        "ner_pipeline = pipeline(\"ner\", model=model, tokenizer=tokenizer, device=0)"
      ]
    },
    {
      "cell_type": "markdown",
      "metadata": {
        "id": "EH2jeALE-_Y3"
      },
      "source": [
        "### We pass the following arguments for address extraction\n",
        "\n",
        "B-LOC\tBeginning of a location right after another location \\\n",
        "I-LOC\tLocation\n",
        "\n",
        "See https://huggingface.co/dslim/bert-base-NER for more details"
      ]
    },
    {
      "cell_type": "code",
      "execution_count": 30,
      "metadata": {
        "colab": {
          "base_uri": "https://localhost:8080/"
        },
        "id": "Bj6Z042g-rTZ",
        "outputId": "2cf321ec-1d8f-470c-8459-7756a452985a"
      },
      "outputs": [
        {
          "name": "stdout",
          "output_type": "stream",
          "text": [
            "Extracted Address: Main St Springfield IL Elm St Shelby ##ville IL Rue de la Tu ##nis ##ie Nan ##ter ##re France\n",
            "Address Tokens are  ['Main', 'St', 'Springfield', 'IL', 'Elm', 'St', 'Shelby', '##ville', 'IL', 'Rue', 'de', 'la', 'Tu', '##nis', '##ie', 'Nan', '##ter', '##re', 'France']\n"
          ]
        }
      ],
      "source": [
        "text = \"Send the package to 123 Main St, Springfield, IL 62704. \" \\\n",
        "       \"Or alternatively, you can send it to 456 Elm St, Shelbyville, IL 62565.\"\\\n",
        "       \"you cna also send it to 75 Rue de la Tunisie, Nanterre, France\"\n",
        "\n",
        "ner_results = ner_pipeline(text)\n",
        "\n",
        "address_tokens = [res['word'] for res in ner_results if res['entity'] == 'B-LOC' or res['entity'] == 'I-LOC']\n",
        "address = ' '.join(address_tokens)\n",
        "\n",
        "print(\"Extracted Address:\", address)\n",
        "\n",
        "ner_results = ner_pipeline(text)\n",
        "address_tokens = [res['word'] for res in ner_results if res['entity'] == 'B-LOC' or res['entity'] == 'I-LOC']\n",
        "print (\"Address Tokens are \", address_tokens)"
      ]
    },
    {
      "cell_type": "markdown",
      "metadata": {
        "id": "8FOy2mKVAkVF"
      },
      "source": [
        "### Token Masking"
      ]
    },
    {
      "cell_type": "code",
      "execution_count": 31,
      "metadata": {
        "colab": {
          "base_uri": "https://localhost:8080/"
        },
        "id": "Ys1GLk0_DMIv",
        "outputId": "9f960fd1-fe97-42dd-a886-d27f19460c5f"
      },
      "outputs": [
        {
          "name": "stdout",
          "output_type": "stream",
          "text": [
            "Send the package to 123 [MASK] [MASK], [MASK], [MASK] 62704. Or alternatively, you can send it to 456 [MASK] [MASK], Shelbyville, [MASK] 62565.you cna also send it to 75 [MASK] [MASK] [MASK] Tunisie, Nanterre, [MASK]\n"
          ]
        }
      ],
      "source": [
        "import re\n",
        "def mask_words(text, words_to_mask):\n",
        "  for word in words_to_mask:\n",
        "    text = re.sub(r'\\b{}\\b'.format(re.escape(word)), '[MASK]', text)\n",
        "  return text\n",
        "\n",
        "masked_text = mask_words(text, address_tokens)\n",
        "print(masked_text)"
      ]
    },
    {
      "cell_type": "markdown",
      "metadata": {
        "id": "AK7hto7j_ly1"
      },
      "source": [
        "# \\\\\\\\\\\\\\\\\\\\\\\\\\\\\\\\\\\\\\\\\\\\\\\\\\\\\\\\\\\\\\\\\\\\\\\\\\\\\\\\\\\\\\\\\\\\\\\\\\\\\\\\\\\\\\\\\\\\\\\\\\\\\\\\\\\\\\\\\\\\\\\\\\\\\\\\\\\\\\\\\\\\\\\\\\\\\\\\\\\\\\\\\\\\\\\\\\\\\\\\\\\\\\\\\\\\\\\\\\\\\\\\\\\\\\\\\\\\\\\\\\\\\\\\\\\\\\\\\\\\\\\\\\\\\\\\\\\\\\\\"
      ]
    },
    {
      "cell_type": "markdown",
      "metadata": {
        "id": "Sk4arEAo_wKO"
      },
      "source": [
        "## You can use a different NER model\n",
        "\n",
        "Here we use a Distilled version of BERT, fine tuned for NER \\\n",
        "Model card: https://huggingface.co/dslim/distilbert-NER"
      ]
    },
    {
      "cell_type": "code",
      "execution_count": 32,
      "metadata": {
        "colab": {
          "base_uri": "https://localhost:8080/"
        },
        "id": "RK4TmStN_2Th",
        "outputId": "a9ac21d5-4c5d-40ec-f44d-ff83355cb753"
      },
      "outputs": [
        {
          "name": "stdout",
          "output_type": "stream",
          "text": [
            "Address Tokens are  ['Main', 'St', 'Springfield', 'IL', 'Elm', 'St', 'Shelby', '##ville', 'IL', 'Rue', 'de', 'la', 'Tu', '##nis', '##ie', 'Nan', '##ter', '##re', 'France']\n",
            "Send the package to 123 [MASK] [MASK], [MASK], [MASK] 62704. Or alternatively, you can send it to 456 [MASK] [MASK], Shelbyville, [MASK] 62565.you cna also send it to 75 [MASK] [MASK] [MASK] Tunisie, Nanterre, [MASK]\n"
          ]
        }
      ],
      "source": [
        "from transformers import AutoTokenizer, AutoModelForTokenClassification, pipeline\n",
        "\n",
        "\n",
        "model_name = \"dslim/distilbert-NER\"\n",
        "tokenizer = AutoTokenizer.from_pretrained(model_name)\n",
        "model = AutoModelForTokenClassification.from_pretrained(model_name)\n",
        "\n",
        "\n",
        "ner_pipeline = pipeline(\"ner\", model=model, tokenizer=tokenizer, device=0)\n",
        "\n",
        "text = \"Send the package to 123 Main St, Springfield, IL 62704. \" \\\n",
        "       \"Or alternatively, you can send it to 456 Elm St, Shelbyville, IL 62565.\"\\\n",
        "       \"you cna also send it to 75 Rue de la Tunisie, Nanterre, France\"\n",
        "\n",
        "ner_results = ner_pipeline(text)\n",
        "address_tokens = [res['word'] for res in ner_results if res['entity'] == 'B-LOC' or res['entity'] == 'I-LOC']\n",
        "print (\"Address Tokens are \", address_tokens)\n",
        "masked_text = mask_words(text, address_tokens)\n",
        "print(masked_text)"
      ]
    }
  ],
  "metadata": {
    "accelerator": "GPU",
    "colab": {
      "gpuType": "T4",
      "provenance": []
    },
    "kernelspec": {
      "display_name": "Python 3",
      "name": "python3"
    },
    "language_info": {
      "name": "python",
      "version": "3.10.12"
    }
  },
  "nbformat": 4,
  "nbformat_minor": 0
}
