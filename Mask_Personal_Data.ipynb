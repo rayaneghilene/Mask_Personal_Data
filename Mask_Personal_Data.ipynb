{
  "nbformat": 4,
  "nbformat_minor": 0,
  "metadata": {
    "colab": {
      "provenance": [],
      "gpuType": "T4",
      "authorship_tag": "ABX9TyM6DHtbnpIwaAjyv20+nOkN",
      "include_colab_link": true
    },
    "kernelspec": {
      "name": "python3",
      "display_name": "Python 3"
    },
    "language_info": {
      "name": "python"
    },
    "accelerator": "GPU",
    "widgets": {
      "application/vnd.jupyter.widget-state+json": {
        "66e00072663a491fb15ad5f57e410226": {
          "model_module": "@jupyter-widgets/controls",
          "model_name": "HBoxModel",
          "model_module_version": "1.5.0",
          "state": {
            "_dom_classes": [],
            "_model_module": "@jupyter-widgets/controls",
            "_model_module_version": "1.5.0",
            "_model_name": "HBoxModel",
            "_view_count": null,
            "_view_module": "@jupyter-widgets/controls",
            "_view_module_version": "1.5.0",
            "_view_name": "HBoxView",
            "box_style": "",
            "children": [
              "IPY_MODEL_11d0411b9d9645dda51cc443b2ffa0f8",
              "IPY_MODEL_9c2fef5797834d5fb3ff6c958c3c3799",
              "IPY_MODEL_6485f6984e2948dcb457521dcd6c6442"
            ],
            "layout": "IPY_MODEL_4239ab31d63942ee9037192a068e4fe7"
          }
        },
        "11d0411b9d9645dda51cc443b2ffa0f8": {
          "model_module": "@jupyter-widgets/controls",
          "model_name": "HTMLModel",
          "model_module_version": "1.5.0",
          "state": {
            "_dom_classes": [],
            "_model_module": "@jupyter-widgets/controls",
            "_model_module_version": "1.5.0",
            "_model_name": "HTMLModel",
            "_view_count": null,
            "_view_module": "@jupyter-widgets/controls",
            "_view_module_version": "1.5.0",
            "_view_name": "HTMLView",
            "description": "",
            "description_tooltip": null,
            "layout": "IPY_MODEL_2979be8887724d53a4848c5d8a86575f",
            "placeholder": "​",
            "style": "IPY_MODEL_7fb1f69407c24662907c3a0e570b3fc7",
            "value": "Loading checkpoint shards: 100%"
          }
        },
        "9c2fef5797834d5fb3ff6c958c3c3799": {
          "model_module": "@jupyter-widgets/controls",
          "model_name": "FloatProgressModel",
          "model_module_version": "1.5.0",
          "state": {
            "_dom_classes": [],
            "_model_module": "@jupyter-widgets/controls",
            "_model_module_version": "1.5.0",
            "_model_name": "FloatProgressModel",
            "_view_count": null,
            "_view_module": "@jupyter-widgets/controls",
            "_view_module_version": "1.5.0",
            "_view_name": "ProgressView",
            "bar_style": "success",
            "description": "",
            "description_tooltip": null,
            "layout": "IPY_MODEL_41e8a387cac44be9b70edff3f5381ba9",
            "max": 4,
            "min": 0,
            "orientation": "horizontal",
            "style": "IPY_MODEL_20ee80e8e7494d80aa20fa67aa096b9d",
            "value": 4
          }
        },
        "6485f6984e2948dcb457521dcd6c6442": {
          "model_module": "@jupyter-widgets/controls",
          "model_name": "HTMLModel",
          "model_module_version": "1.5.0",
          "state": {
            "_dom_classes": [],
            "_model_module": "@jupyter-widgets/controls",
            "_model_module_version": "1.5.0",
            "_model_name": "HTMLModel",
            "_view_count": null,
            "_view_module": "@jupyter-widgets/controls",
            "_view_module_version": "1.5.0",
            "_view_name": "HTMLView",
            "description": "",
            "description_tooltip": null,
            "layout": "IPY_MODEL_ad5f6b2dd13246398dfa2099a2118768",
            "placeholder": "​",
            "style": "IPY_MODEL_347ed0c3bc9b415d89be1d155cd26de7",
            "value": " 4/4 [01:05&lt;00:00, 13.51s/it]"
          }
        },
        "4239ab31d63942ee9037192a068e4fe7": {
          "model_module": "@jupyter-widgets/base",
          "model_name": "LayoutModel",
          "model_module_version": "1.2.0",
          "state": {
            "_model_module": "@jupyter-widgets/base",
            "_model_module_version": "1.2.0",
            "_model_name": "LayoutModel",
            "_view_count": null,
            "_view_module": "@jupyter-widgets/base",
            "_view_module_version": "1.2.0",
            "_view_name": "LayoutView",
            "align_content": null,
            "align_items": null,
            "align_self": null,
            "border": null,
            "bottom": null,
            "display": null,
            "flex": null,
            "flex_flow": null,
            "grid_area": null,
            "grid_auto_columns": null,
            "grid_auto_flow": null,
            "grid_auto_rows": null,
            "grid_column": null,
            "grid_gap": null,
            "grid_row": null,
            "grid_template_areas": null,
            "grid_template_columns": null,
            "grid_template_rows": null,
            "height": null,
            "justify_content": null,
            "justify_items": null,
            "left": null,
            "margin": null,
            "max_height": null,
            "max_width": null,
            "min_height": null,
            "min_width": null,
            "object_fit": null,
            "object_position": null,
            "order": null,
            "overflow": null,
            "overflow_x": null,
            "overflow_y": null,
            "padding": null,
            "right": null,
            "top": null,
            "visibility": null,
            "width": null
          }
        },
        "2979be8887724d53a4848c5d8a86575f": {
          "model_module": "@jupyter-widgets/base",
          "model_name": "LayoutModel",
          "model_module_version": "1.2.0",
          "state": {
            "_model_module": "@jupyter-widgets/base",
            "_model_module_version": "1.2.0",
            "_model_name": "LayoutModel",
            "_view_count": null,
            "_view_module": "@jupyter-widgets/base",
            "_view_module_version": "1.2.0",
            "_view_name": "LayoutView",
            "align_content": null,
            "align_items": null,
            "align_self": null,
            "border": null,
            "bottom": null,
            "display": null,
            "flex": null,
            "flex_flow": null,
            "grid_area": null,
            "grid_auto_columns": null,
            "grid_auto_flow": null,
            "grid_auto_rows": null,
            "grid_column": null,
            "grid_gap": null,
            "grid_row": null,
            "grid_template_areas": null,
            "grid_template_columns": null,
            "grid_template_rows": null,
            "height": null,
            "justify_content": null,
            "justify_items": null,
            "left": null,
            "margin": null,
            "max_height": null,
            "max_width": null,
            "min_height": null,
            "min_width": null,
            "object_fit": null,
            "object_position": null,
            "order": null,
            "overflow": null,
            "overflow_x": null,
            "overflow_y": null,
            "padding": null,
            "right": null,
            "top": null,
            "visibility": null,
            "width": null
          }
        },
        "7fb1f69407c24662907c3a0e570b3fc7": {
          "model_module": "@jupyter-widgets/controls",
          "model_name": "DescriptionStyleModel",
          "model_module_version": "1.5.0",
          "state": {
            "_model_module": "@jupyter-widgets/controls",
            "_model_module_version": "1.5.0",
            "_model_name": "DescriptionStyleModel",
            "_view_count": null,
            "_view_module": "@jupyter-widgets/base",
            "_view_module_version": "1.2.0",
            "_view_name": "StyleView",
            "description_width": ""
          }
        },
        "41e8a387cac44be9b70edff3f5381ba9": {
          "model_module": "@jupyter-widgets/base",
          "model_name": "LayoutModel",
          "model_module_version": "1.2.0",
          "state": {
            "_model_module": "@jupyter-widgets/base",
            "_model_module_version": "1.2.0",
            "_model_name": "LayoutModel",
            "_view_count": null,
            "_view_module": "@jupyter-widgets/base",
            "_view_module_version": "1.2.0",
            "_view_name": "LayoutView",
            "align_content": null,
            "align_items": null,
            "align_self": null,
            "border": null,
            "bottom": null,
            "display": null,
            "flex": null,
            "flex_flow": null,
            "grid_area": null,
            "grid_auto_columns": null,
            "grid_auto_flow": null,
            "grid_auto_rows": null,
            "grid_column": null,
            "grid_gap": null,
            "grid_row": null,
            "grid_template_areas": null,
            "grid_template_columns": null,
            "grid_template_rows": null,
            "height": null,
            "justify_content": null,
            "justify_items": null,
            "left": null,
            "margin": null,
            "max_height": null,
            "max_width": null,
            "min_height": null,
            "min_width": null,
            "object_fit": null,
            "object_position": null,
            "order": null,
            "overflow": null,
            "overflow_x": null,
            "overflow_y": null,
            "padding": null,
            "right": null,
            "top": null,
            "visibility": null,
            "width": null
          }
        },
        "20ee80e8e7494d80aa20fa67aa096b9d": {
          "model_module": "@jupyter-widgets/controls",
          "model_name": "ProgressStyleModel",
          "model_module_version": "1.5.0",
          "state": {
            "_model_module": "@jupyter-widgets/controls",
            "_model_module_version": "1.5.0",
            "_model_name": "ProgressStyleModel",
            "_view_count": null,
            "_view_module": "@jupyter-widgets/base",
            "_view_module_version": "1.2.0",
            "_view_name": "StyleView",
            "bar_color": null,
            "description_width": ""
          }
        },
        "ad5f6b2dd13246398dfa2099a2118768": {
          "model_module": "@jupyter-widgets/base",
          "model_name": "LayoutModel",
          "model_module_version": "1.2.0",
          "state": {
            "_model_module": "@jupyter-widgets/base",
            "_model_module_version": "1.2.0",
            "_model_name": "LayoutModel",
            "_view_count": null,
            "_view_module": "@jupyter-widgets/base",
            "_view_module_version": "1.2.0",
            "_view_name": "LayoutView",
            "align_content": null,
            "align_items": null,
            "align_self": null,
            "border": null,
            "bottom": null,
            "display": null,
            "flex": null,
            "flex_flow": null,
            "grid_area": null,
            "grid_auto_columns": null,
            "grid_auto_flow": null,
            "grid_auto_rows": null,
            "grid_column": null,
            "grid_gap": null,
            "grid_row": null,
            "grid_template_areas": null,
            "grid_template_columns": null,
            "grid_template_rows": null,
            "height": null,
            "justify_content": null,
            "justify_items": null,
            "left": null,
            "margin": null,
            "max_height": null,
            "max_width": null,
            "min_height": null,
            "min_width": null,
            "object_fit": null,
            "object_position": null,
            "order": null,
            "overflow": null,
            "overflow_x": null,
            "overflow_y": null,
            "padding": null,
            "right": null,
            "top": null,
            "visibility": null,
            "width": null
          }
        },
        "347ed0c3bc9b415d89be1d155cd26de7": {
          "model_module": "@jupyter-widgets/controls",
          "model_name": "DescriptionStyleModel",
          "model_module_version": "1.5.0",
          "state": {
            "_model_module": "@jupyter-widgets/controls",
            "_model_module_version": "1.5.0",
            "_model_name": "DescriptionStyleModel",
            "_view_count": null,
            "_view_module": "@jupyter-widgets/base",
            "_view_module_version": "1.2.0",
            "_view_name": "StyleView",
            "description_width": ""
          }
        }
      }
    }
  },
  "cells": [
    {
      "cell_type": "markdown",
      "metadata": {
        "id": "view-in-github",
        "colab_type": "text"
      },
      "source": [
        "<a href=\"https://colab.research.google.com/github/rayaneghilene/Mask_Personal_Data/blob/main/Mask_Personal_Data.ipynb\" target=\"_parent\"><img src=\"https://colab.research.google.com/assets/colab-badge.svg\" alt=\"Open In Colab\"/></a>"
      ]
    },
    {
      "cell_type": "markdown",
      "source": [
        "# Mask Personal Data with NER\n",
        "\n",
        "This notebook contains the code to mask personal data in text, for imporved security. It leverages the numind open source NuExtract model: https://huggingface.co/numind/NuExtract\n",
        "\n",
        "Blog post:  https://numind.ai/blog/nuextract-a-foundation-model-for-structured-extraction\n",
        "\n",
        "---\n",
        "\n"
      ],
      "metadata": {
        "id": "Ns5yIY84Jg7X"
      }
    },
    {
      "cell_type": "code",
      "execution_count": 16,
      "metadata": {
        "colab": {
          "base_uri": "https://localhost:8080/",
          "height": 572,
          "referenced_widgets": [
            "66e00072663a491fb15ad5f57e410226",
            "11d0411b9d9645dda51cc443b2ffa0f8",
            "9c2fef5797834d5fb3ff6c958c3c3799",
            "6485f6984e2948dcb457521dcd6c6442",
            "4239ab31d63942ee9037192a068e4fe7",
            "2979be8887724d53a4848c5d8a86575f",
            "7fb1f69407c24662907c3a0e570b3fc7",
            "41e8a387cac44be9b70edff3f5381ba9",
            "20ee80e8e7494d80aa20fa67aa096b9d",
            "ad5f6b2dd13246398dfa2099a2118768",
            "347ed0c3bc9b415d89be1d155cd26de7"
          ]
        },
        "id": "fN-e7902BjHp",
        "outputId": "fae0eff7-b8fa-4129-ddd1-693754bbd653"
      },
      "outputs": [
        {
          "output_type": "stream",
          "name": "stderr",
          "text": [
            "WARNING:transformers_modules.microsoft.Phi-3-mini-4k-instruct.c1358f8a35e6d2af81890deffbbfa575b978c62f.modeling_phi3:`flash-attention` package not found, consider installing for better performance: No module named 'flash_attn'.\n",
            "WARNING:transformers_modules.microsoft.Phi-3-mini-4k-instruct.c1358f8a35e6d2af81890deffbbfa575b978c62f.modeling_phi3:Current `flash-attention` does not support `window_size`. Either upgrade or use `attn_implementation='eager'`.\n"
          ]
        },
        {
          "output_type": "display_data",
          "data": {
            "text/plain": [
              "Loading checkpoint shards:   0%|          | 0/4 [00:00<?, ?it/s]"
            ],
            "application/vnd.jupyter.widget-view+json": {
              "version_major": 2,
              "version_minor": 0,
              "model_id": "66e00072663a491fb15ad5f57e410226"
            }
          },
          "metadata": {}
        },
        {
          "output_type": "stream",
          "name": "stderr",
          "text": [
            "Special tokens have been added in the vocabulary, make sure the associated word embeddings are fine-tuned or trained.\n"
          ]
        },
        {
          "output_type": "execute_result",
          "data": {
            "text/plain": [
              "Phi3ForCausalLM(\n",
              "  (model): Phi3Model(\n",
              "    (embed_tokens): Embedding(32064, 3072, padding_idx=32000)\n",
              "    (embed_dropout): Dropout(p=0.0, inplace=False)\n",
              "    (layers): ModuleList(\n",
              "      (0-31): 32 x Phi3DecoderLayer(\n",
              "        (self_attn): Phi3Attention(\n",
              "          (o_proj): Linear(in_features=3072, out_features=3072, bias=False)\n",
              "          (qkv_proj): Linear(in_features=3072, out_features=9216, bias=False)\n",
              "          (rotary_emb): Phi3RotaryEmbedding()\n",
              "        )\n",
              "        (mlp): Phi3MLP(\n",
              "          (gate_up_proj): Linear(in_features=3072, out_features=16384, bias=False)\n",
              "          (down_proj): Linear(in_features=8192, out_features=3072, bias=False)\n",
              "          (activation_fn): SiLU()\n",
              "        )\n",
              "        (input_layernorm): Phi3RMSNorm()\n",
              "        (resid_attn_dropout): Dropout(p=0.0, inplace=False)\n",
              "        (resid_mlp_dropout): Dropout(p=0.0, inplace=False)\n",
              "        (post_attention_layernorm): Phi3RMSNorm()\n",
              "      )\n",
              "    )\n",
              "    (norm): Phi3RMSNorm()\n",
              "  )\n",
              "  (lm_head): Linear(in_features=3072, out_features=32064, bias=False)\n",
              ")"
            ]
          },
          "metadata": {},
          "execution_count": 16
        }
      ],
      "source": [
        "import json, torch\n",
        "from transformers import AutoModelForCausalLM, AutoTokenizer\n",
        "\n",
        "\n",
        "def predict_NuExtract(model, tokenizer, text, schema, example=[\"\",\"\",\"\"]):\n",
        "    schema = json.dumps(json.loads(schema), indent=4)\n",
        "    input_llm =  \"<|input|>\\n### Template:\\n\" +  schema + \"\\n\"\n",
        "    for i in example:\n",
        "      if i != \"\":\n",
        "          input_llm += \"### Example:\\n\"+ json.dumps(json.loads(i), indent=4)+\"\\n\"\n",
        "\n",
        "    input_llm +=  \"### Text:\\n\"+text +\"\\n<|output|>\\n\"\n",
        "    input_ids = tokenizer(input_llm, return_tensors=\"pt\", truncation=True, max_length=4000).to(\"cuda\")\n",
        "\n",
        "    output = tokenizer.decode(model.generate(**input_ids)[0], skip_special_tokens=True)\n",
        "    return output.split(\"<|output|>\")[1].split(\"<|end-output|>\")[0]\n",
        "\n",
        "## Uncomment the following section if you wish to use the Tiny model (0.5B)\n",
        "# model = AutoModelForCausalLM.from_pretrained(\"numind/NuExtract-tiny\", trust_remote_code=True)\n",
        "# tokenizer = AutoTokenizer.from_pretrained(\"numind/NuExtract-tiny\", trust_remote_code=True)\n",
        "\n",
        "## The following model is the 3.7B version\n",
        "model = AutoModelForCausalLM.from_pretrained(\"numind/NuExtract\", torch_dtype=torch.bfloat16, trust_remote_code=True)\n",
        "tokenizer = AutoTokenizer.from_pretrained(\"numind/NuExtract\", trust_remote_code=True)\n",
        "\n",
        "model.to(\"cuda\")\n",
        "\n",
        "model.eval()"
      ]
    },
    {
      "cell_type": "code",
      "source": [
        "text = \"\"\"John Doe and his wife, Jane Smith, recently moved to 123 Maple Street, Springfield.\n",
        "They used to live at 456 Oak Avenue, Metropolis.\n",
        "John's friend, Alice Johnson, helped them with the move.\n",
        "You can contact John at (555)123-4567 for more details.\n",
        "For secure access, use the API key: abc123XYZ789.\"\"\"\n",
        "\n",
        "schema = \"\"\"{\n",
        "    \"Addresses\": [],\n",
        "    \"Names\": [],\n",
        "    \"Phone Numbers\": [],\n",
        "    \"API Keys\": [],\n",
        "    \"Spouse Names\": []\n",
        "}\"\"\"\n",
        "\n",
        "prediction = predict_NuExtract(model, tokenizer, text, schema, example=[\"\",\"\",\"\"])\n",
        "print(prediction)"
      ],
      "metadata": {
        "colab": {
          "base_uri": "https://localhost:8080/"
        },
        "id": "VcojZPxFIJL4",
        "outputId": "c5650753-4cc0-4152-9c31-873621526d85"
      },
      "execution_count": 23,
      "outputs": [
        {
          "output_type": "stream",
          "name": "stdout",
          "text": [
            "\n",
            "{\n",
            "    \"Addresses\": [\n",
            "        \"123 Maple Street, Springfield\",\n",
            "        \"456 Oak Avenue, Metropolis\"\n",
            "    ],\n",
            "    \"Names\": [\n",
            "        \"John Doe\",\n",
            "        \"Jane Smith\",\n",
            "        \"Alice Johnson\"\n",
            "    ],\n",
            "    \"Phone Numbers\": [\n",
            "        \"(555)123-4567\"\n",
            "    ],\n",
            "    \"API Keys\": [\n",
            "        \"abc123XYZ789\"\n",
            "    ],\n",
            "    \"Spouse Names\": [\n",
            "        \"Jane Smith\"\n",
            "    ]\n",
            "}\n",
            "\n"
          ]
        }
      ]
    },
    {
      "cell_type": "code",
      "source": [
        "import json\n",
        "import re\n",
        "\n",
        "def mask_words_by_class(text, extracted_data_str):\n",
        "    extracted_data = json.loads(extracted_data_str)\n",
        "\n",
        "    word_set = set()\n",
        "    for key in extracted_data:\n",
        "        for item in extracted_data[key]:\n",
        "            word_set.add(item.lower())\n",
        "\n",
        "    sorted_word_set = sorted(word_set, key=len, reverse=True)\n",
        "    pattern = re.compile(r'\\b(' + '|'.join(re.escape(word) for word in sorted_word_set) + r')\\b', re.IGNORECASE)\n",
        "    masked_text = pattern.sub('<mask>', text)\n",
        "\n",
        "    return masked_text"
      ],
      "metadata": {
        "id": "Cz7McDb6DT4L"
      },
      "execution_count": 24,
      "outputs": []
    },
    {
      "cell_type": "code",
      "source": [
        "masked_text = mask_words_by_class(text, prediction)\n",
        "print(\"Original Text: \\n\", text)\n",
        "print(\"Masked Text: \\n\", masked_text)"
      ],
      "metadata": {
        "colab": {
          "base_uri": "https://localhost:8080/"
        },
        "id": "TbE361GhGFhc",
        "outputId": "93134996-a360-4240-e2df-ef84e9326712"
      },
      "execution_count": 25,
      "outputs": [
        {
          "output_type": "stream",
          "name": "stdout",
          "text": [
            "Original Text: \n",
            " John Doe and his wife, Jane Smith, recently moved to 123 Maple Street, Springfield. \n",
            "They used to live at 456 Oak Avenue, Metropolis. \n",
            "John's friend, Alice Johnson, helped them with the move. \n",
            "You can contact John at (555)123-4567 for more details. \n",
            "For secure access, use the API key: abc123XYZ789.\n",
            "Masked Text: \n",
            " <mask> and his wife, <mask>, recently moved to <mask>. \n",
            "They used to live at <mask>. \n",
            "John's friend, <mask>, helped them with the move. \n",
            "You can contact John at (555)123-4567 for more details. \n",
            "For secure access, use the API key: <mask>.\n"
          ]
        }
      ]
    }
  ]
}